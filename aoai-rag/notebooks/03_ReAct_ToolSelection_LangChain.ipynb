{
 "cells": [
  {
   "cell_type": "markdown",
   "id": "eb299f82-f4b1-4f85-9195-07724f6dd4cb",
   "metadata": {},
   "source": [
    "# ReAct ToolSelection approach with Azure AI Search\n",
    "このサンプルノートブックでは ReAct を用いてツール選択の動作を試すことができます。ユーザーからの質問に対してどのような情報が欠けているのかを確認するために質問を繰り返し評価し、すべての情報がそろったところで、回答を作成することを試みます。ReAct を使用してツールの「**説明文**」のみに基づいて使用するツールを決定します。\n",
    "\n",
    "サンプルコードではツールを2つ（Azure AI Search、CSVルックアップ）使用して情報を検索しています。エージェントの処理は LangChain の**ZERO_SHOT_REACT_DESCRIPTION** エージントで実装しています。サンプルコードは武将カフェの検索用 CSV ファイルから検索するようになっています。\n"
   ]
  },
  {
   "cell_type": "markdown",
   "id": "38c68a5b",
   "metadata": {},
   "source": [
    "# 事前準備\n",
    "この Python サンプルを実行するには、以下が必要です：\n",
    "- Azure AI Search リソース。エンドポイントとクエリ API キーが必要です。\n",
    "- Azure OpenAI Service にアクセスできる承認済み Azure サブスクリプション\n",
    "- Azure OpenAI Service への `text-embedding-ada-002` Embeddings モデルのデプロイメント。このデモでは、API バージョン `2023-05-15` を使用しています。デプロイ名はモデルと同じ「`text-embedding-ada-002`」を使用しています。\n",
    "- Azure OpenAI Service の接続とモデル情報\n",
    "  - OpenAI API キー\n",
    "  - OpenAI Embeddings モデルのデプロイメント名\n",
    "  - OpenAI API バージョン\n",
    "- Python (この手順はバージョン 3.10.x でテストされています)\n",
    "\n",
    "これらのデモには、Visual Studio Code と [Jupyter extension](https://marketplace.visualstudio.com/items?itemName=ms-toolsai.jupyter) を使用できます。"
   ]
  },
  {
   "cell_type": "markdown",
   "id": "1e7c8bef",
   "metadata": {},
   "source": [
    "## パッケージのインストール"
   ]
  },
  {
   "cell_type": "code",
   "execution_count": null,
   "id": "da1d9bbd-e2b9-451a-a872-56f19430d0e6",
   "metadata": {
    "scrolled": true
   },
   "outputs": [],
   "source": [
    "!pip install azure-search-documents==11.4.0\n",
    "!pip install openai\n",
    "!pip install langchain==0.0.350"
   ]
  },
  {
   "cell_type": "code",
   "execution_count": 1,
   "id": "3c6ef945-8aa3-4538-8bf7-662c01bdf397",
   "metadata": {},
   "outputs": [
    {
     "name": "stdout",
     "output_type": "stream",
     "text": [
      "azure.search.documents 11.4.0\n",
      "langchain 0.0.352\n"
     ]
    }
   ],
   "source": [
    "import azure.search.documents\n",
    "print(\"azure.search.documents\", azure.search.documents.__version__)\n",
    "import langchain\n",
    "print(\"langchain\", langchain.__version__)"
   ]
  },
  {
   "cell_type": "markdown",
   "id": "524420cf",
   "metadata": {},
   "source": [
    "## 必要なライブラリと環境変数のインポート"
   ]
  },
  {
   "cell_type": "code",
   "execution_count": 2,
   "id": "94c62e8d-9891-4fde-a989-9bb040e1558f",
   "metadata": {},
   "outputs": [],
   "source": [
    "import csv\n",
    "from azure.core.credentials import AzureKeyCredential  \n",
    "from azure.search.documents import SearchClient\n",
    "from azure.search.documents.models import (\n",
    "    VectorizedQuery\n",
    ")\n",
    "\n",
    "from langchain.agents import (\n",
    "    AgentType,\n",
    "    Tool,\n",
    "    initialize_agent,\n",
    ")\n",
    "from langchain.agents.mrkl import prompt\n",
    "from langchain.chat_models import AzureChatOpenAI\n",
    "#from langchain.chat_models import ChatOpenAI\n",
    "from langchain.tools import BaseTool"
   ]
  },
  {
   "cell_type": "markdown",
   "id": "8c014e02",
   "metadata": {},
   "source": [
    "## Azure AI Search 接続設定"
   ]
  },
  {
   "cell_type": "code",
   "execution_count": 3,
   "id": "652d5c38-7c3d-4849-8079-6f4bcc144a2b",
   "metadata": {},
   "outputs": [],
   "source": [
    "service_endpoint: str = \"<Your search service endpoint>\"\n",
    "service_query_key: str = \"<Your search service query key>\"\n",
    "index_name: str = \"gptkbindex\" #自動構築時のデフォルト設定\n",
    "\n",
    "credential = AzureKeyCredential(service_query_key)"
   ]
  },
  {
   "cell_type": "markdown",
   "id": "502b043a-044b-458e-9626-7c4cda992103",
   "metadata": {},
   "source": [
    "## Azure OpenAI の設定"
   ]
  },
  {
   "cell_type": "code",
   "execution_count": 4,
   "id": "7daa9e2f-58ba-427d-9634-2d83bff3ff8e",
   "metadata": {},
   "outputs": [],
   "source": [
    "AZURE_OPENAI_API_KEY = \"Your OpenAI API Key\"\n",
    "AZURE_OPENAI_ENDPOINT = \"https://<Your OpenAI Service>.openai.azure.com/\"\n",
    "AZURE_OPENAI_CHATGPT_DEPLOYMENT = \"chat\" #自動構築時のデフォルト設定\n",
    "AZURE_OPENAI_EMB_DEPLOYMENT=\"embedding\" #自動構築時のデフォルト設定"
   ]
  },
  {
   "cell_type": "code",
   "execution_count": 5,
   "id": "6bd993d8-5d4b-4c58-a793-709f58731a95",
   "metadata": {},
   "outputs": [],
   "source": [
    "from openai import AzureOpenAI\n",
    "from tenacity import retry, wait_random_exponential, stop_after_attempt  \n",
    "\n",
    "openai_client = AzureOpenAI(\n",
    "  api_key = AZURE_OPENAI_API_KEY,  \n",
    "  api_version = \"2023-05-15\",\n",
    "  azure_endpoint = AZURE_OPENAI_ENDPOINT\n",
    ")\n",
    "\n",
    "@retry(wait=wait_random_exponential(min=1, max=20), stop=stop_after_attempt(6))\n",
    "# タイトルフィールドとコンテンツフィールドのEmbeddingsを生成する関数。\n",
    "def generate_embeddings(text, model=AZURE_OPENAI_EMB_DEPLOYMENT):\n",
    "    return openai_client.embeddings.create(input = [text], model=model).data[0].embedding"
   ]
  },
  {
   "cell_type": "markdown",
   "id": "d6e941b0",
   "metadata": {},
   "source": [
    "# 武将検索ツールの Retrieve 実装\n",
    "武将検索ツールは Azure AI Search に接続して検索した結果を返却します。"
   ]
  },
  {
   "cell_type": "code",
   "execution_count": 16,
   "id": "07852f0e-1944-4024-a56d-11b7fb52ac4f",
   "metadata": {},
   "outputs": [],
   "source": [
    "def retrieve(query_text: str):\n",
    "    search_client = SearchClient(service_endpoint, index_name, credential=credential)\n",
    "    docs = search_client.search(\n",
    "        search_text=query_text,\n",
    "        filter=None,\n",
    "        top=3,\n",
    "        vector_queries=[VectorizedQuery(vector=generate_embeddings(query_text), k_nearest_neighbors=3, fields=\"embedding\")]\n",
    "    )\n",
    "    results =[doc['sourcepage'] + \": \" + nonewlines(doc['content']) for doc in docs]\n",
    "    content = \"\\n\".join(results)\n",
    "    return content\n",
    "    \n",
    "def nonewlines(s: str) -> str:\n",
    "    return s.replace('\\n', ' ').replace('\\r', ' ').replace('[', '【').replace(']', '】')"
   ]
  },
  {
   "cell_type": "markdown",
   "id": "109977a9",
   "metadata": {},
   "source": [
    "# カフェ検索ツールの定義\n",
    "カフェ検索ツールは、CSV ルックアップを使用してクエリに該当するカフェの情報を返却します。"
   ]
  },
  {
   "cell_type": "code",
   "execution_count": 17,
   "id": "ad12a08f-5d60-4352-94a3-78814759edff",
   "metadata": {},
   "outputs": [],
   "source": [
    "class CafeSearchTool(BaseTool):\n",
    "    data: dict[str, str] = {}\n",
    "    name = \"CafeSearchTool\"\n",
    "    description = \"武将のゆかりのカフェを検索するのに便利です。カフェの検索クエリには、武将の**名前のみ**を入力してください。\"\n",
    "\n",
    "    # Use the tool synchronously.\n",
    "    def _run(self, query: str) -> str:\n",
    "        filename = \"data/restaurantinfo.csv\"\n",
    "        key_field = \"name\"\n",
    "        try:\n",
    "            with open(filename, newline='', encoding='utf-8') as csvfile:\n",
    "                reader = csv.DictReader(csvfile)\n",
    "                for row in reader:\n",
    "                    self.data[row[key_field]] =  \"\\n\".join([f\"{i}:{row[i]}\" for i in row])\n",
    "\n",
    "        except Exception as e:\n",
    "            print(\"File read error:\", e)\n",
    "\n",
    "        return self.data.get(query, \"\")"
   ]
  },
  {
   "cell_type": "markdown",
   "id": "a96f77f7",
   "metadata": {},
   "source": [
    "# Tool の定義\n",
    "使用するツールは以下の2つで、それぞれ異なる2種類の記法を使って記述しています。\n",
    "- 武将検索ツール: Tool dataclass 法を使って tools の中に直接記述。\n",
    "- カフェ検索ツール: BaseTool クラスのサブクラスとして `CafeSearchTool` を定義"
   ]
  },
  {
   "cell_type": "code",
   "execution_count": 18,
   "id": "07257ea6-b85f-4dcd-b02b-1dd8bd039b87",
   "metadata": {},
   "outputs": [],
   "source": [
    "# Tool dataclass 法と Subclassing the BaseTool class 法の異なる記法を示しています\n",
    "tools = [\n",
    "    Tool(name=\"PeopleSearchTool\",\n",
    "        func=retrieve,\n",
    "        coroutine=retrieve,\n",
    "        description=\"日本の歴史の人物情報の検索に便利です。ユーザーの質問から検索クエリーを生成して検索します。クエリーは文字列のみを受け付けます\"\n",
    "        ),\n",
    "    CafeSearchTool()\n",
    "]"
   ]
  },
  {
   "cell_type": "markdown",
   "id": "def3eb45",
   "metadata": {},
   "source": [
    "# LLM の定義"
   ]
  },
  {
   "cell_type": "code",
   "execution_count": 19,
   "id": "0faa34ce-b96c-456a-a88a-f05d67778091",
   "metadata": {},
   "outputs": [],
   "source": [
    "llm = AzureChatOpenAI(\n",
    "    azure_deployment=AZURE_OPENAI_CHATGPT_DEPLOYMENT,\n",
    "    api_version=\"2023-07-01-preview\",\n",
    "    azure_endpoint=AZURE_OPENAI_ENDPOINT,\n",
    "    openai_api_key=AZURE_OPENAI_API_KEY,\n",
    "    #azure_ad_token_provider=self.openai_ad_token,\n",
    "    temperature=0.0,\n",
    ")"
   ]
  },
  {
   "cell_type": "code",
   "execution_count": 20,
   "id": "7095879b-90dd-4339-990c-11d5ca547aee",
   "metadata": {},
   "outputs": [],
   "source": [
    "q = \"鎌倉幕府第二代征夷大将軍の名前とその将軍にゆかりの地にあるカフェの名前を教えて\""
   ]
  },
  {
   "cell_type": "markdown",
   "id": "d78c9ca5",
   "metadata": {},
   "source": [
    "# Agent の定義と実行"
   ]
  },
  {
   "cell_type": "code",
   "execution_count": 22,
   "id": "c6d563d8-a667-4050-88ab-3773c38cd71e",
   "metadata": {},
   "outputs": [
    {
     "name": "stdout",
     "output_type": "stream",
     "text": [
      "\n",
      "\n",
      "\u001b[1m> Entering new AgentExecutor chain...\u001b[0m\n",
      "\u001b[32;1m\u001b[1;3mまずは鎌倉幕府第二代征夷大将軍の名前を調べる必要があります。それから、その将軍にゆかりの地にあるカフェの名前を検索します。\n",
      "Action: PeopleSearchTool\n",
      "Action Input: 鎌倉幕府第二代征夷大将軍\u001b[0m\n",
      "Observation: \u001b[36;1m\u001b[1;3m源頼家 - Wikipedia-1.pdf: 第二代鎌倉殿 建久10年（1199年）1月13日、父・頼朝が急死する。頼家は同月20日付けで左中将となり、つい で26日付けで家督を相続し、第2代鎌倉殿となる。時に18歳であった。1 - 2月頃には武士達が大勢 京都に上り、急な政権交代に乗じた都の不穏な動きを警戒する態勢が取られており、この間に三 左衛門事件が発生している。 頼家が家督を相続して3か月後の4月、北条氏ら有力御家人による十三人の合議制がしかれ、頼家 が直に訴訟を聴断することは停止された。反発した頼家は小笠原長経、比企三郎、比企時員、中 野能成以下若い近習5人【注釈2】を指名して、彼らでなければ自分への目通りを許さず - 、 またこれに 手向かってはならないという命令を出した。また正治元年（1199年）7月には小笠原、比企、中 野、和田朝盛らに対して、安達景盛の留守を狙い、その愛妾を召し連れて来るように命じた。こ のあたりの『吾妻鏡』には、頼家が側近や乳母一族である比企氏を重用し、従来の慣習を無視し た独裁的判断を行った挿話が並べられている（十三人の合議制の実態や頼家が本当に暗君であっ たかについては、#十三人の合議制の実態と頼家の実績を参照）。 - 合議制の設立から半年後の10月、頼朝の代から側近として重用されていた侍所長官の梶原景時に 反発する御家人たちには、御家人66名による景時糾弾の連判状を頼家に提出した。頼家に弁明を 求められた景時は、何の抗弁もせず所領に下る。謹慎ののち、鎌倉へ戻った景時は政務への復帰 - を頼家に願ったが、頼家は景時を救うことができず 、 景時は鎌倉追放を申し渡された。正治2年 （1200年）1月20日、失意の景時は一族を率いて京都へ上る道中で在地の御家人達から襲撃を受 け、一族もろとも滅亡した（『吾妻鏡』）。九条兼実の『玉葉』正治2年正月2日条によると、景 時は頼家の弟である千幡（のちの源実朝）を将軍に立てようとする陰謀があると頼家に報告し、 他の武士たちと対決したが言い負かされ一族とともに追放されたという。慈円は『愚管抄』で、 景時を死なせたことは頼家の失策であると評した（梶原景時の変）。 建仁元年（1201年）正月から5月にかけて、景時与党であった城氏一族が建仁の乱を起こして鎮圧 される。頼家は、捕らえられて鎌倉に送られてきた城氏一族の女武者・坂額御前を引見してい る。建仁2年（1202年）7月22日、従二位に叙され、征夷大将軍に宣下される。 将軍追放 景時滅亡から3年後、建仁3年（1203年）5月、頼家は千幡の乳母・阿波局の夫で叔父である阿野 全成を謀反人の咎で逮捕、殺害した。さらに阿波局を逮捕しようとしたが、阿波局の姉である政 子が引き渡しを拒否する。 - - 全成事件前の3月頃から体調不良が現れていた頼家は、7月半ば過ぎに急病にかかり、8月末には \n",
      "源頼朝 - Wikipedia-7.pdf: この奥州合戦の終了で治承4年（1180年）に起きた治承・寿永の乱から続いていた内乱も終結を 迎えることになる。 征夷大将軍 文治5年（1189年）11月3日、朝廷より奥州征伐を称える書状が下り、頼朝は按察使への任官を打 診され、さらに勲功のあった御家人の推挙を促されるが、頼朝は辞退した。奥州では、大河兼任 の乱が勃発するが、足利義兼や千葉胤正らに出陣を命じ、文治6年（1190年）3月に大河兼任は討 取られた。伊沢家景を陸奥国留守職に任命し、在庁官人を指揮させ、奥州への支配を強化した。 建久元年（1190年）10月3日、頼朝は遂に上洛すべく鎌倉を発つ。平治の乱で父が討たれた尾張 - 国野間、父兄が留まった美濃国青墓などを経て、11月7日に千余騎の御家人を率いて入京し、かつ て平清盛が住んだ六波羅に建てた新邸に入った。 一 9日、後白河法皇に拝謁し、長時間余人を交えず会談した。頼朝は権大納言・右近衛大将に任じら れたが、12月3日に両官を辞した。任命された官職を直ちに辞任した背景としては、両官ともに京 都の朝廷における公事の運営上重要な地位にあり、公事への参加義務を有する両官を辞任しない - 限り鎌倉に戻ることが困難になると判断したとみられている【37】。11月9日の夜、頼朝は九条兼実 と面会して政治的提携を確認した。頼朝の在京はおよそ40日間だったが後白河院との対面は8回 を数え、朝幕関係に新たな局面を切り開いた。義経と行家の捜索・逮捕の目的で保持していた日 本国総追補使・総地頭の地位は、より一般的な治安警察権を行使する恒久的なものに切り替わ り、翌年3月22日の建久新制で頼朝の諸国守護権が公式に認められた。12月14日、頼朝は京都を 去り29日に鎌倉に戻った。なお上洛中の12月には御家人10人が兵衛尉・衛門尉に任じられてい る【注釈45】。朝廷からは20人の推薦が許されたが頼朝は10人のみを推薦した。 建久2年（1191年）3月4日の夜、鎌倉は大規模な火災に見舞われ、大蔵幕府やその周辺の御家人の 屋敷などが多数焼失した。頼朝は郊外の甘縄にあった安達盛長の邸宅に逃れて無事であったが、 鎌倉の都市計画は修正を余儀なくされた。もっとも、この前日に鎌倉に大火を予言した者がいた など『吾妻鏡』には不審火を示唆するような記述が見られ、頼朝もしくはその周辺の幕府首脳が 都市計画の障害となる建物を整地するために意図的に引き起こした放火であるという説を唱える 研究者もいる【38】。 建久3年（1192年）3月に後白河法皇が崩御し、同年7月12日、後鳥羽天皇によって頼朝は征夷大将 軍に任ぜられた。 『三槐荒涼抜書要』所収の『山槐記』建久3年（1192年）7月9日条および12日 条によると、頼朝が望んだのは「大将軍」であり、それを受けた朝廷で「惣官」 「征東大将軍」 \n",
      "源実朝 - Wikipedia-0.pdf: 三代鎌倉殿就任 建仁3年（1203年）9月、比企能員の変により頼家は将軍職を失い、伊豆国に追われる。母の政子 らは朝廷に対して9月1日に頼家が死去したという虚偽の報告を行い、千幡への家督継承の許可を 求めた。これを受けた朝廷は7日に千幡を従五位下・征夷大将軍に補任した【注釈3】。10月8日、北 条時政邸において12歳で元服し、後鳥羽院の命名により、実朝と称した。儀式に参じた御家人は 大江広元・小山朝政・安達景盛・和田義盛ら百余名で、理髪は祖父・北条時政、加冠は門葉筆 頭・平賀義信が行った。24日にはかつて父が務めた右兵衛佐に任じられる。翌年、兄・頼家は北 条氏の刺客により暗殺された。 元久元年（1204年）12月、京より後鳥羽の従妹でもある後鳥羽の寵臣・坊門信清の娘（西八条禅 尼）を正室（御台所）に迎える。 『吾妻鏡』によれば、正室ははじめ足利義兼の娘が考えられて いたが、実朝は許容せず使者を京に発し妻を求めた。しかし実朝はまだ幼く、この決定は実際は 時政と政子の妥協の産物とする説もある【注釈4】。元久2年（1205年）1月5日に正五位下に叙さ れ、29日には加賀介を兼ね右近衛権中将に任じられる。 騒乱と和歌 源義朝 北条時政 牧の方 源頼朝 北条政子 北条義時 坊門信清 大姫 源頼家 源実朝 西八条禅尼 公暁 元久2年（1205年）4月、12首の和歌を試作する。6 月、畠山重忠の乱が起こり、北条義時、時房、和田 義盛、三浦義村らが鎮める。乱後の行賞は政子によ り計らわれ、実朝の幼年の間はこの例によるとされ た。閏7月19日、時政邸にあった実朝を侵そうとい う牧の方の謀計が鎌倉に知れわたる。実朝は政子の 命を受けた御家人らに守られ、義時の邸宅に逃れ た。牧の方の夫である時政は兵を集めるが、兵はす べて実朝のいる義時邸に参じた。20日、時政は伊 豆国北条に追われ、執権職は義時が継いだ（牧氏事 件）。9月2日、後鳥羽が勅撰した『新古今和歌集』を京より運ばせる。和歌集はいまだ披露され ていなかったが、和歌を好む実朝は、父の歌が入集すると聞くとしきりに見ることを望んだ。 - - - 系譜 建永元年（1206年）2月4日、北条義時の山荘に立ち寄り、北条泰時、東重胤、内藤知親らと歌会 。 2月22日、従四位下へ昇り、10月20日には母の命により兄・頼家の次男である善哉を猶 子とする。11月18日、歌会で近仕していた東重胤が数か月ぶりに鎌倉へ帰参する。実朝はかねて より和歌を送って重胤を召していたが、遅参したために蟄居させる。12月23日、重胤は義時の邸 宅を訪れ、蟄居の悲嘆を述べる。義時は「凡そこの如き災いに遭うは、官仕の習いなり。但し詠 歌を献らば定めて快然たらんかと」と述べ、重胤を伴って実朝の邸宅に赴き、重胤の詠歌を実朝 \u001b[0m\n",
      "Thought:\u001b[32;1m\u001b[1;3m鎌倉幕府第二代征夷大将軍は源頼家であることがわかりました。次に、その将軍にゆかりの地にあるカフェの名前を検索します。\n",
      "Action: CafeSearchTool\n",
      "Action Input: 源頼家\u001b[0m\n",
      "Observation: \u001b[33;1m\u001b[1;3mname:源頼家\n",
      "category:カフェ\n",
      "restaurant:Cafe Genji13\n",
      "ratings:3.4\n",
      "location:修善寺\u001b[0m\n",
      "Thought:\u001b[32;1m\u001b[1;3m源頼家にゆかりの地にあるカフェの名前は「Cafe Genji13」です。\n",
      "Final Answer: 鎌倉幕府第二代征夷大将軍の名前は源頼家であり、その将軍にゆかりの地にあるカフェの名前は「Cafe Genji13」です。\u001b[0m\n",
      "\n",
      "\u001b[1m> Finished chain.\u001b[0m\n"
     ]
    },
    {
     "data": {
      "text/plain": [
       "'鎌倉幕府第二代征夷大将軍の名前は源頼家であり、その将軍にゆかりの地にあるカフェの名前は「Cafe Genji13」です。'"
      ]
     },
     "execution_count": 22,
     "metadata": {},
     "output_type": "execute_result"
    }
   ],
   "source": [
    "SUFFIX = \"\"\"\n",
    "Answer should be in Japanese.\n",
    "\"\"\"\n",
    "agent_chain = initialize_agent(\n",
    "    tools,\n",
    "    llm,\n",
    "    agent=AgentType.ZERO_SHOT_REACT_DESCRIPTION,\n",
    "    #agent=AgentType.OPENAI_FUNCTIONS,\n",
    "    verbose=True,\n",
    "    agent_kwargs=dict(suffix=SUFFIX + prompt.SUFFIX),\n",
    "    handle_parsing_errors=True,\n",
    "    max_iterations=5,\n",
    "    early_stopping_method=\"generate\",\n",
    ")\n",
    "\n",
    "result = agent_chain.run(q)\n",
    "result"
   ]
  }
 ],
 "metadata": {
  "kernelspec": {
   "display_name": "Python 3 (ipykernel)",
   "language": "python",
   "name": "python3"
  },
  "language_info": {
   "codemirror_mode": {
    "name": "ipython",
    "version": 3
   },
   "file_extension": ".py",
   "mimetype": "text/x-python",
   "name": "python",
   "nbconvert_exporter": "python",
   "pygments_lexer": "ipython3",
   "version": "3.10.13"
  }
 },
 "nbformat": 4,
 "nbformat_minor": 5
}
